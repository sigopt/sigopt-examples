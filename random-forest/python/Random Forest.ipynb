{
 "cells": [
  {
   "cell_type": "markdown",
   "metadata": {},
   "source": [
    "# Use SigOpt to tune a Random Forest Classifier in Python\n",
    "Learn more about our [Python API Client](https://sigopt.com/docs/overview/python).\n",
    "\n",
    "# Setup\n",
    " - Run `pip install sigopt` to download the python API client\n",
    " - Run `pip install sklearn` to install [scikit-learn](http://scikit-learn.org), a machine learning library in Python \n",
    "\n",
    "Insert your [SigOpt API Token](https://sigopt.com/docs/overview/authentication) below: "
   ]
  },
  {
   "cell_type": "code",
   "execution_count": null,
   "metadata": {
    "collapsed": false
   },
   "outputs": [],
   "source": [
    "from sigopt import Connection\n",
    "conn = Connection(client_token=SIGOPT_API_TOKEN)"
   ]
  },
  {
   "cell_type": "markdown",
   "metadata": {},
   "source": [
    "# Load dataset\n",
    "We are using the iris dataset as an example."
   ]
  },
  {
   "cell_type": "code",
   "execution_count": null,
   "metadata": {
    "collapsed": true
   },
   "outputs": [],
   "source": [
    "from sklearn import datasets\n",
    "iris = datasets.load_iris()\n",
    "X = iris.data\n",
    "y = iris.target"
   ]
  },
  {
   "cell_type": "markdown",
   "metadata": {},
   "source": [
    "# Create an Experiment\n",
    "Create a SigOpt experiment for the Random Forest parameters."
   ]
  },
  {
   "cell_type": "code",
   "execution_count": null,
   "metadata": {
    "collapsed": false
   },
   "outputs": [],
   "source": [
    "experiment = conn.experiments().create(\n",
    "  name=\"Random Forest (iPython)\",\n",
    "  project=\"sigopt-examples\",\n",
    "  parameters=[\n",
    "    dict(name=\"max_features\", type=\"int\", bounds=dict(min=1, max=len(iris)-1)),\n",
    "    dict(name=\"n_estimators\", type=\"int\", bounds=dict(min=1, max=100)),\n",
    "    dict(name=\"min_samples_leaf\", type=\"int\", bounds=dict(min=1, max=10))\n",
    "  ]\n",
    ")\n",
    "print(\"Created experiment: https://sigopt.com/experiment/\" + experiment.id)"
   ]
  },
  {
   "cell_type": "markdown",
   "metadata": {},
   "source": [
    "# Write evaluate_model Function\n",
    "Our object metric is the mean of cross validated accuracies, and we use cross validation to prevent overfitting."
   ]
  },
  {
   "cell_type": "code",
   "execution_count": null,
   "metadata": {
    "collapsed": true
   },
   "outputs": [],
   "source": [
    "from sklearn import cross_validation\n",
    "from sklearn.ensemble import RandomForestClassifier\n",
    "import numpy\n",
    "\n",
    "def evaluate_model(assignments, X, y):\n",
    "  cv = cross_validation.ShuffleSplit(\n",
    "    X.shape[0],\n",
    "    n_iter=5,\n",
    "    test_size=0.3,\n",
    "  )\n",
    "  classifier = RandomForestClassifier(\n",
    "    n_estimators=assignments['n_estimators'],\n",
    "    max_features=assignments['max_features'],\n",
    "    min_samples_leaf=assignments['min_samples_leaf']\n",
    "  )\n",
    "  cv_accuracies = cross_validation.cross_val_score(classifier, X, y, cv=cv)\n",
    "  return (numpy.mean(cv_accuracies), numpy.std(cv_accuracies))"
   ]
  },
  {
   "cell_type": "markdown",
   "metadata": {},
   "source": [
    "# Run the Optimization Loop\n",
    "Run the [Optimization Loop](https://sigopt.com/docs/overview/optimization) between 10x - 20x the number of parameters."
   ]
  },
  {
   "cell_type": "code",
   "execution_count": null,
   "metadata": {
    "collapsed": true
   },
   "outputs": [],
   "source": [
    "for _ in range(60):\n",
    "    # Receive a Suggestion from SigOpt\n",
    "    suggestion = conn.experiments(experiment.id).suggestions().create()\n",
    "\n",
    "    # Evaluate the model locally\n",
    "    (value, std) = evaluate_model(suggestion.assignments, X, y)\n",
    "\n",
    "    # Report an Observation (with standard deviation) back to SigOpt\n",
    "    conn.experiments(experiment.id).observations().create(\n",
    "        suggestion=suggestion.id,\n",
    "        value=value,\n",
    "        value_stddev=std,\n",
    "    )"
   ]
  },
  {
   "cell_type": "markdown",
   "metadata": {},
   "source": [
    "# Wrap up the Experiment"
   ]
  },
  {
   "cell_type": "code",
   "execution_count": null,
   "metadata": {
    "collapsed": false
   },
   "outputs": [],
   "source": [
    "# Re-fetch the best observed value and assignments\n",
    "best_assignments = conn.experiments(experiment.id).best_assignments().fetch().data[0].assignments\n",
    "\n",
    "# To wrap up the Experiment, fit the RandomForest on the best assignments\n",
    "# and train on all available data\n",
    "rf = RandomForestClassifier(\n",
    "    n_estimators=best_assignments['n_estimators'],\n",
    "    max_features=best_assignments['max_features'],\n",
    "    min_samples_leaf=best_assignments['min_samples_leaf']\n",
    ")\n",
    "rf.fit(X, y)"
   ]
  }
 ],
 "metadata": {
  "kernelspec": {
   "display_name": "Python 2",
   "language": "python",
   "name": "python2"
  },
  "language_info": {
   "codemirror_mode": {
    "name": "ipython",
    "version": 2
   },
   "file_extension": ".py",
   "mimetype": "text/x-python",
   "name": "python",
   "nbconvert_exporter": "python",
   "pygments_lexer": "ipython2",
   "version": "2.7.10"
  }
 },
 "nbformat": 4,
 "nbformat_minor": 0
}
