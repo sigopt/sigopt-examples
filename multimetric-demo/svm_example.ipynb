{
 "cells": [
  {
   "cell_type": "markdown",
   "metadata": {},
   "source": [
    "# Examples of tuning SVMs with multiple metrics\n",
    "\n",
    "This is an example of using multimetric optimization to consider the tradeoff between certain concerns (speed and accuracy) when tuning a support vector machine.  If you have not yet done so, please make sure you are comfortable with the content in the [intro](multimetric_intro.ipynb) notebook."
   ]
  },
  {
   "cell_type": "code",
   "execution_count": 1,
   "metadata": {
    "collapsed": false
   },
   "outputs": [],
   "source": [
    "import numpy\n",
    "import os\n",
    "import pandas\n",
    "import urllib\n",
    "\n",
    "from sklearn.metrics import precision_recall_fscore_support\n",
    "from sklearn.model_selection import train_test_split, StratifiedKFold\n",
    "from sklearn.svm import SVC\n",
    "from time import time as now\n",
    "\n",
    "from matplotlib import pyplot as plt\n",
    "%matplotlib inline\n",
    "\n",
    "# Matplotlib stuff for generating plots\n",
    "dominated_opts = {'linewidth': 0, 'marker': '.', 'color': 'k', 'alpha': .4}\n",
    "efficient_opts = {'linewidth': 0, 'marker': '+', 'color': 'r', 'markersize': 10, 'markeredgewidth': 2}\n",
    "\n",
    "from sigopt.interface import Connection\n",
    "\n",
    "if 'SIGOPT_API_TOKEN' in os.environ:\n",
    "    SIGOPT_API_TOKEN = os.environ['SIGOPT_API_TOKEN']\n",
    "else:\n",
    "    SIGOPT_API_TOKEN = None\n",
    "\n",
    "assert SIGOPT_API_TOKEN is not None\n",
    "conn = Connection(client_token=SIGOPT_API_TOKEN)"
   ]
  },
  {
   "cell_type": "markdown",
   "metadata": {},
   "source": [
    "We define here a function to let us read in data.  This function works on most of the [UCI data sets](https://archive.ics.uci.edu/ml/datasets.html) which is why it is more complicated than it needs to be: it handles categorical values in a one-hot fashion and manages missing data by averaging the missing values.  It also has options to normalize all numerical inputs to a [0, 1] domain (a useful normalization for support vector machines) and split input data into a test and training set."
   ]
  },
  {
   "cell_type": "code",
   "execution_count": 2,
   "metadata": {
    "collapsed": true
   },
   "outputs": [],
   "source": [
    "def basic_readin_categorical_data(filename, cat_var_indexes, num_var_indexes, val_index, test_split_frac=.2, pandas_kwargs=None, scale01=True):\n",
    "    pandas_kwargs = pandas_kwargs or {'header': None, 'skipinitialspace': True}\n",
    "    a = pandas.read_csv(filename, **pandas_kwargs)\n",
    "    a = a.fillna('?')\n",
    "    pmat = a.as_matrix()\n",
    "    \n",
    "    if numpy.any(pmat[:, val_index] == '?'):  # Cut data with no classification (why is it even there?)\n",
    "        pmat = numpy.delete(pmat, numpy.where(pmat[:, val_index] == '?')[0], axis=0)\n",
    "\n",
    "    all_vals = set(pmat[:, val_index])\n",
    "    val_map = dict(zip(all_vals, range(len(all_vals))))\n",
    "    vals = numpy.array(map(lambda x: val_map[x], pmat[:, val_index]))\n",
    "\n",
    "    bad_numerical_indexes = []\n",
    "    for k in num_var_indexes:\n",
    "        if sum([v == '?' for v in pmat[:, k]]):\n",
    "            bad_numerical_indexes.append(k)\n",
    "    for k in bad_numerical_indexes:\n",
    "        mean_replace = numpy.mean([float(v) for v in pmat[:, k] if v != '?'])\n",
    "        print 'Replacing column {0} ? with {1}'.format(k, mean_replace)\n",
    "        numpy.place(pmat[:, k], pmat[:, k] == '?', mean_replace)\n",
    "\n",
    "    one_hot_vars = [pandas.get_dummies(pmat[:, k]) for k in cat_var_indexes]\n",
    "    num_vars = pmat[:, num_var_indexes].astype(float)\n",
    "    data = numpy.concatenate([num_vars] + one_hot_vars, axis=1)\n",
    "    if scale01:\n",
    "        l = numpy.min(data, axis=0)\n",
    "        u = numpy.max(data, axis=0)\n",
    "        data -= l[numpy.newaxis, :]\n",
    "        data /= (abs(u[numpy.newaxis, :] - l[numpy.newaxis, :]) + 1e-16)\n",
    "    if test_split_frac:\n",
    "        return train_test_split(data, vals, test_size=test_split_frac)\n",
    "    else:\n",
    "        return data, vals"
   ]
  },
  {
   "cell_type": "markdown",
   "metadata": {},
   "source": [
    "The problem under consideration here is a classification problems using data from the UCI database, in particular the [telescope](https://archive.ics.uci.edu/ml/datasets/MAGIC+Gamma+Telescope) dataset.\n",
    "\n",
    "First, we download the data from the UCI server, if it does not already exist in this directory.  Using the function above, read in and store the data, and then split up into training and test sets."
   ]
  },
  {
   "cell_type": "code",
   "execution_count": 3,
   "metadata": {
    "collapsed": false
   },
   "outputs": [],
   "source": [
    "if not os.path.isfile('magic04.data'):\n",
    "    urllib.urlretrieve('https://archive.ics.uci.edu/ml/machine-learning-databases/magic/magic04.data', 'magic04.data')\n",
    "\n",
    "cat_var_indexes = []\n",
    "num_var_indexes = list(range(10))\n",
    "val_index = 10\n",
    "train_test_data = basic_readin_categorical_data('magic04.data', cat_var_indexes, num_var_indexes, val_index)"
   ]
  },
  {
   "cell_type": "markdown",
   "metadata": {},
   "source": [
    "Here we create an iterator that splits our data randomly into cross-validation folds (subtrain and validation sets).  The `validate_frac` value determines the proportion of the training data which is randomly placed in the validation set (with the rest going to the subtrain set).  This closely resembles the [ShuffleSplit](http://scikit-learn.org/stable/modules/generated/sklearn.model_selection.ShuffleSplit.html#sklearn.model_selection.ShuffleSplit) cross-validation tool in scikit-learn, but the splits are not i.i.d. because each element is guaranteed to appear in at least one validation set per `ceil(1 / validation_frac)` consecutive folds."
   ]
  },
  {
   "cell_type": "code",
   "execution_count": 4,
   "metadata": {
    "collapsed": true
   },
   "outputs": [],
   "source": [
    "def cv_iterator(train_data, train_vals, n_folds, validate_frac=.25):\n",
    "    n_data = len(train_data)\n",
    "    list_of_values = list(range(n_data))\n",
    "    num_folds_executed = 0\n",
    "    leftover_indices = set([])\n",
    "    while num_folds_executed < n_folds:\n",
    "        possible_remaining_indices = set(list_of_values)\n",
    "        returned_validate_indices = set([])\n",
    "        \n",
    "        for _ in range(int(numpy.ceil(1 / validate_frac))):\n",
    "            if num_folds_executed >= n_folds:  # If n_folds is less than 1 / validate_frac, this stops after n_folds\n",
    "                break\n",
    "                \n",
    "            validate_indices = numpy.array([], dtype=int)\n",
    "            if leftover_indices:\n",
    "                validate_indices = numpy.array(list(leftover_indices))\n",
    "                possible_remaining_indices -= leftover_indices\n",
    "                leftover_indices = set([])\n",
    "                \n",
    "            validate_indices = numpy.append(validate_indices, numpy.random.choice(list(possible_remaining_indices), replace=False, size=int(validate_frac * n_data) - len(validate_indices)))\n",
    "            returned_validate_indices |= set(validate_indices)\n",
    "            possible_remaining_indices -= set(validate_indices)\n",
    "            subtrain_indices = numpy.array(list(set(list_of_values) - set(validate_indices)), dtype=int)\n",
    "\n",
    "            num_folds_executed += 1\n",
    "            subtrain_data, subtrain_vals = train_data[subtrain_indices], train_vals[subtrain_indices]\n",
    "            validate_data, validate_vals = train_data[validate_indices], train_vals[validate_indices]\n",
    "            yield subtrain_data, subtrain_vals, validate_data, validate_vals\n",
    "        \n",
    "        leftover_indices = possible_remaining_indices"
   ]
  },
  {
   "cell_type": "markdown",
   "metadata": {},
   "source": [
    "We define the metrics that we want to study as\n",
    "\n",
    "* the average of the cross-validated scores, and\n",
    "* the average of the time required to train each of them.\n",
    "\n",
    "We also report an estimate of the standard deviation for both of these quantities.  Note that, because we (presumably) want to minimize the training time, we will negate that value in observations.\n",
    "\n",
    "The [parameters of interest](http://scikit-learn.org/stable/auto_examples/svm/plot_rbf_parameters.html) in this problem are\n",
    "\n",
    "* $\\gamma$ - the [shape parameter](https://www.siam.org/students/siuro/vol4/S01084.pdf) of the RBF kernel in the SVM\n",
    "* $C$ - the [box constraint](https://en.wikipedia.org/wiki/Support_vector_machine#Properties), balancing slack in a soft-margin SVM\n",
    "\n",
    "Both of these are optimized on a log-scale, thus the `log_` out front."
   ]
  },
  {
   "cell_type": "code",
   "execution_count": 5,
   "metadata": {
    "collapsed": true
   },
   "outputs": [],
   "source": [
    "svm_score_time_meta = {\n",
    "    'name': 'SigOpt Multimetric Demo - Balancing Score vs. Training Time (python)',\n",
    "    'metrics': [{'name': 'score'}, {'name': 'training time'}],\n",
    "    'parameters': [\n",
    "        {'name': 'log_gamma', 'bounds': {'min': numpy.log(.01), 'max': numpy.log(100)}, 'type': 'double'},\n",
    "        {'name': 'log_C', 'bounds': {'min': numpy.log(.01), 'max': numpy.log(100)}, 'type': 'double'},\n",
    "    ],\n",
    "    'type': 'offline',\n",
    "    'observation_budget': 111,\n",
    "}"
   ]
  },
  {
   "cell_type": "markdown",
   "metadata": {},
   "source": [
    "We create a function which will return a dictionary full of the necessary information to create an observation, given a suggestion from SigOpt.  This is not required, but it helps simplify the optimization loop.  Recall, we are negating the training time to try to minimize (not maximize) it.  Also, notice the use of `numpy.exp` to move the parameters given by SigOpt from log-scale to the appropriate domain values needed in scikit-learn.\n",
    "\n",
    "We also want to report, as metadata, the error on the test data set, just to keep relevant information altogether.  In practice, it may be the case that this quantity will only be computed after the optimization is completed.\n",
    "\n",
    "Note that, for the time being, [cross-validated experiment types](https://sigopt.com/docs/overview/cross_validated) are **not** permitted to have multiple metrics.  As such, the cross-validation reduction is managed here rather than within SigOpt."
   ]
  },
  {
   "cell_type": "code",
   "execution_count": 6,
   "metadata": {
    "collapsed": true
   },
   "outputs": [],
   "source": [
    "def form_score_time_observation_dict(suggestion, train_test_data, num_folds=5):\n",
    "    (train_data, test_data, train_vals, test_vals) = train_test_data\n",
    "    sklearn_tool = SVC(\n",
    "        C=numpy.exp(suggestion.assignments['log_C']),\n",
    "        gamma=numpy.exp(suggestion.assignments['log_gamma']),\n",
    "    )\n",
    "    \n",
    "    all_training_times = []\n",
    "    all_training_scores = []\n",
    "    for subtrain_data, subtrain_vals, validate_data, validate_vals in cv_iterator(train_data, train_vals, num_folds):\n",
    "        start = now()\n",
    "        sklearn_tool.fit(subtrain_data, subtrain_vals)\n",
    "        end = now()\n",
    "        all_training_times.append(float(end - start))\n",
    "        all_training_scores.append(sklearn_tool.score(validate_data, validate_vals))\n",
    "        \n",
    "    start = now()\n",
    "    sklearn_tool.fit(train_data, train_vals)\n",
    "    end = now()\n",
    "    test_time = end - start\n",
    "    test_score = sklearn_tool.score(test_data, test_vals)\n",
    "    \n",
    "    observation_dict = {\n",
    "        'suggestion': suggestion.id,\n",
    "        'values': [\n",
    "            {\n",
    "                'name': 'score',\n",
    "                'value': numpy.mean(all_training_scores),\n",
    "                'value_stddev': numpy.sqrt(numpy.var(all_training_scores) / num_folds)\n",
    "            },\n",
    "            {\n",
    "                'name': 'training time',\n",
    "                'value': -numpy.mean(all_training_times),\n",
    "                'value_stddev': numpy.sqrt(numpy.var(all_training_times) / num_folds)\n",
    "            },\n",
    "        ],\n",
    "        'metadata': {\n",
    "            'num_folds': num_folds,\n",
    "            'test_score': test_score,\n",
    "            'test_time': test_time,\n",
    "        },\n",
    "    }\n",
    "    return observation_dict"
   ]
  },
  {
   "cell_type": "markdown",
   "metadata": {},
   "source": [
    "Create the experiment and execute the optimization loop."
   ]
  },
  {
   "cell_type": "code",
   "execution_count": 7,
   "metadata": {
    "collapsed": true
   },
   "outputs": [],
   "source": [
    "experiment = conn.experiments().create(**svm_score_time_meta)"
   ]
  },
  {
   "cell_type": "code",
   "execution_count": 8,
   "metadata": {
    "collapsed": false
   },
   "outputs": [],
   "source": [
    "while experiment.progress.observation_count < experiment.observation_budget:\n",
    "    suggestion = conn.experiments(experiment.id).suggestions().create()\n",
    "    observation = form_score_time_observation_dict(suggestion, train_test_data)\n",
    "    conn.experiments(experiment.id).observations().create(**observation)\n",
    "    experiment = conn.experiments(experiment.id).fetch()"
   ]
  },
  {
   "cell_type": "markdown",
   "metadata": {},
   "source": [
    "Extract the [Pareto efficient](https://en.wikipedia.org/wiki/Pareto_efficiency) points for analysis.  See [our documentation](https://www.sigopt.com/docs/overview/pareto_efficiency) for more discussion on this topic.  We also recover all the dominated points that were sampled, for completeness."
   ]
  },
  {
   "cell_type": "code",
   "execution_count": 9,
   "metadata": {
    "collapsed": false
   },
   "outputs": [],
   "source": [
    "pareto_efficient_results = conn.experiments(experiment.id).best_assignments().fetch()\n",
    "efficient_points = numpy.empty((pareto_efficient_results.count, 2))\n",
    "efficient_values = numpy.empty((pareto_efficient_results.count, 2))\n",
    "for k, data in enumerate(pareto_efficient_results.data):\n",
    "    efficient_points[k, :] = [data.assignments['log_gamma'], data.assignments['log_C']]\n",
    "    dv = {d.name: d.value for d in data.values}\n",
    "    efficient_values[k, :] = [dv[m['name']] for m in svm_score_time_meta['metrics']]\n",
    "    \n",
    "all_points = numpy.empty((experiment.progress.observation_count, 2))\n",
    "all_values = numpy.empty((experiment.progress.observation_count, 2))\n",
    "for k, obs in enumerate(conn.experiments(experiment.id).observations().fetch().iterate_pages()):\n",
    "    all_points[k, :] = [obs.assignments['log_gamma'], obs.assignments['log_C']]\n",
    "    ov = {o.name: o.value for o in obs.values}\n",
    "    all_values[k, :] = [ov[m['name']] for m in svm_score_time_meta['metrics']]"
   ]
  },
  {
   "cell_type": "markdown",
   "metadata": {},
   "source": [
    "Plot the results from the optimization and try to make a judgment as to which points are considered most desirable.  In this particular experiment, the goal is mainly to understand the relationship between training time and quality; a specific decision would have to be made in some larger business context.\n",
    "\n",
    "It should also be noted that, in a practical setting, the timing information should be drawn from the computer on which the actual production training will take place, not a development computer."
   ]
  },
  {
   "cell_type": "code",
   "execution_count": 10,
   "metadata": {
    "collapsed": false
   },
   "outputs": [
    {
     "data": {
      "image/png": "[encoded data removed]",
      "text/plain": [
       "<matplotlib.figure.Figure at 0x10b82e1d0>"
      ]
     },
     "metadata": {},
     "output_type": "display_data"
    }
   ],
   "source": [
    "fig, (ax1, ax2) = plt.subplots(1, 2, figsize=(12, 5))\n",
    "\n",
    "ax1.plot(all_values[:, 0], all_values[:, 1], **dominated_opts)\n",
    "ax1.plot(efficient_values[:, 0], efficient_values[:, 1], **efficient_opts)\n",
    "ax1.set_xlabel('average training score', fontsize=15)\n",
    "ax1.set_ylabel('average training time (negative)', fontsize=15)\n",
    "\n",
    "ax2.plot(all_points[:, 0], all_points[:, 1], **dominated_opts)\n",
    "ax2.plot(efficient_points[:, 0], efficient_points[:, 1], **efficient_opts)\n",
    "ax2.set_xlabel('$\\log(\\gamma)$', fontsize=15)\n",
    "ax2.set_ylabel('$\\log(C)$', fontsize=15)\n",
    "ax2.set_xlim(svm_score_time_meta['parameters'][0]['bounds']['min'], svm_score_time_meta['parameters'][0]['bounds']['max']);\n",
    "ax2.set_ylim(svm_score_time_meta['parameters'][1]['bounds']['min'], svm_score_time_meta['parameters'][1]['bounds']['max']);"
   ]
  },
  {
   "cell_type": "code",
   "execution_count": null,
   "metadata": {
    "collapsed": true
   },
   "outputs": [],
   "source": []
  }
 ],
 "metadata": {
  "kernelspec": {
   "display_name": "Python 2",
   "language": "python",
   "name": "python2"
  },
  "language_info": {
   "codemirror_mode": {
    "name": "ipython",
    "version": 2
   },
   "file_extension": ".py",
   "mimetype": "text/x-python",
   "name": "python",
   "nbconvert_exporter": "python",
   "pygments_lexer": "ipython2",
   "version": "2.7.10"
  }
 },
 "nbformat": 4,
 "nbformat_minor": 0
}
