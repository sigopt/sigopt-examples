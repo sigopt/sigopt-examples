{
 "nbformat": 4,
 "nbformat_minor": 0,
 "metadata": {
  "colab": {
   "name": "sigopt_runs_demo.ipynb",
   "provenance": [],
   "collapsed_sections": []
  },
  "kernelspec": {
   "name": "python3",
   "display_name": "Python 3"
  },
  "language_info": {
   "name": "python"
  }
 },
 "cells": [
  {
   "cell_type": "markdown",
   "metadata": {
    "id": "AFJgv_3P4Bkl"
   },
   "source": [
    "#SigOpt Runs Demo\n",
    "\n",
    "In this notebook, you will learn how to:\n",
    "\n",
    "* Install the SigOpt python client\n",
    "* Set your SigOpt API token\n",
    "* Create your first project\n",
    "* Instrument your model\n",
    "* Create your first Run and log your model metric and parameters to SigOpt\n",
    "* Visualize Results"
   ]
  },
  {
   "cell_type": "markdown",
   "metadata": {
    "id": "U5s2PjpUT8T8"
   },
   "source": [
    "## Install `sigopt` Python Client\n"
   ]
  },
  {
   "cell_type": "code",
   "metadata": {
    "id": "GStrnIw7S_ra"
   },
   "source": [
    "!pip install sigopt"
   ],
   "execution_count": null,
   "outputs": []
  },
  {
   "cell_type": "markdown",
   "metadata": {
    "id": "fPHmUxsBUO74"
   },
   "source": [
    "## Set Your API Token\n",
    "\n",
    "Once you've installed SigOpt, you need to add your SigOpt API token.\n",
    "\n",
    "If you don't have an account yet, sign up for a free account at [app.sigopt.com/signup](https://app.sigopt.com/signup).\n",
    "\n",
    "To get your API token, visit https://app.sigopt.com/tokens/info. This page is accessible from anywhere in the app when you click on your name in the top right corner, and select \"API Tokens\".\n",
    "\n",
    "<img src=\"https://public.sigopt.com/get-started-notebooks/v1/find-api-token.gif\" width=\"900\"/>\n",
    "\n",
    "Once you have your API token, run the code cell below to authenticate, configure SigOpt and load the notebook integration.\n"
   ]
  },
  {
   "cell_type": "code",
   "metadata": {
    "id": "LiRlxr9NiGsZ"
   },
   "source": [
    "import sigopt\n",
    "%load_ext sigopt\n",
    "%sigopt config"
   ],
   "execution_count": null,
   "outputs": []
  },
  {
   "cell_type": "markdown",
   "metadata": {
    "id": "x1aUAYtzhhml"
   },
   "source": [
    "## Instrument Your Model\n",
    "\n",
    "Let’s start out by importing some useful libraries and load our data:"
   ]
  },
  {
   "cell_type": "code",
   "metadata": {
    "id": "EPjIZgbdhjCt"
   },
   "source": [
    "from xgboost import XGBClassifier\n",
    "from sklearn.multiclass import OneVsRestClassifier\n",
    "from sklearn.model_selection import cross_val_score\n",
    "from sklearn.preprocessing import OneHotEncoder, StandardScaler\n",
    "from sklearn import datasets\n",
    "import numpy\n",
    "import time"
   ],
   "execution_count": null,
   "outputs": []
  },
  {
   "cell_type": "code",
   "metadata": {
    "id": "AAB9zZWtWFH3",
    "pycharm": {
     "name": "#%%\n"
    }
   },
   "source": [
    "DATASET_NAME = \"Sklearn Wine\"\n",
    "FEATURE_ENG_PIPELINE_NAME = \"Sklearn Standard Scalar\"\n",
    "PREDICTION_TYPE = \"Multiclass\"\n",
    "DATASET_SRC = \"sklearn.datasets\"\n",
    "\n",
    "def get_data():\n",
    "\n",
    "  \"\"\"\n",
    "  Load sklearn wine dataset, and scale features to be zero mean, unit variance.\n",
    "  One hot encode labels (3 classes), to be used by sklearn OneVsRestClassifier.\n",
    "  \"\"\"\n",
    "\n",
    "  data = datasets.load_wine()\n",
    "  X = data[\"data\"]\n",
    "  y = data[\"target\"]\n",
    "\n",
    "  scaler = StandardScaler()\n",
    "  X_scaled = scaler.fit_transform(X)\n",
    "\n",
    "  enc = OneHotEncoder()\n",
    "  Y = enc.fit_transform(y[:, numpy.newaxis]).toarray()\n",
    "\n",
    "  return (X_scaled, Y)"
   ],
   "execution_count": null,
   "outputs": []
  },
  {
   "cell_type": "markdown",
   "metadata": {
    "id": "81yDzXfShoZ_",
    "pycharm": {
     "name": "#%% md\n"
    }
   },
   "source": [
    "We now create our model function; `evaluate_xgboost_model` that instantiates one xgboost classifier per class in our 3-class dataset, and evaluate the one-vs-rest classifier set on `number_of_cross_val_folds` before reporting the mean score and the wall-clock time to instantiate and train the models.\n"
   ]
  },
  {
   "cell_type": "code",
   "metadata": {
    "id": "n-slS09RhACg",
    "pycharm": {
     "name": "#%%\n"
    }
   },
   "source": [
    "MODEL_NAME = \"OneVsRestClassifier(XGBoostClassifier)\"\n",
    "\n",
    "def evaluate_xgboost_model(X, y,\n",
    "                           number_of_cross_val_folds=5,\n",
    "                           max_depth=6,\n",
    "                           learning_rate=0.3,\n",
    "                           min_split_loss=0):\n",
    "    t0 = time.time()\n",
    "    classifier = OneVsRestClassifier(XGBClassifier(\n",
    "        objective = \"binary:logistic\",\n",
    "        max_depth =    max_depth,\n",
    "        learning_rate = learning_rate,\n",
    "        min_split_loss = min_split_loss,\n",
    "        use_label_encoder=False,\n",
    "        verbosity = 0\n",
    "    ))\n",
    "    cv_accuracies = cross_val_score(classifier, X, y, cv=number_of_cross_val_folds)\n",
    "    tf = time.time()\n",
    "    training_and_validation_time = (tf-t0)\n",
    "    return numpy.mean(cv_accuracies), training_and_validation_time"
   ],
   "execution_count": null,
   "outputs": []
  },
  {
   "cell_type": "markdown",
   "metadata": {
    "id": "nxk4TmsgFHwq",
    "pycharm": {
     "name": "#%% md\n"
    }
   },
   "source": [
    "The second function `run_and_track_in_sigopt` uses SigOpt methods to log and track key model information including:\n",
    "* the type of model used (`sigopt.log_model`),\n",
    "* the name of the dataset (`sigopt.log_dataset`),\n",
    "* the hyperparameters used to build the model (`sigopt.params.[PARAMETER_NAME]`),\n",
    "* various attributes relevant to the model (`sigopt.log_metadata`) and\n",
    "* the model output metrics (`sigopt.log_metric`)."
   ]
  },
  {
   "cell_type": "code",
   "metadata": {
    "id": "7ynaKU7zhrGm"
   },
   "source": [
    "def run_and_track_in_sigopt():\n",
    "\n",
    "    (features, labels) = get_data()\n",
    "\n",
    "    sigopt.log_dataset(DATASET_NAME)\n",
    "    sigopt.log_metadata(key=\"Dataset Source\", value=DATASET_SRC)\n",
    "    sigopt.log_metadata(key=\"Feature Eng Pipeline Name\", value=FEATURE_ENG_PIPELINE_NAME)\n",
    "    sigopt.log_metadata(key=\"Dataset Rows\", value=features.shape[0]) # assumes features X are like a numpy array with shape\n",
    "    sigopt.log_metadata(key=\"Dataset Columns\", value=features.shape[1])\n",
    "    sigopt.log_metadata(key=\"Execution Environment\", value=\"Colab Notebook\")\n",
    "    sigopt.log_model(MODEL_NAME)\n",
    "    sigopt.params.max_depth = numpy.random.randint(low=3, high=15, dtype=int)\n",
    "    sigopt.params.learning_rate = numpy.random.random(size=1)[0]\n",
    "    sigopt.params.min_split_loss = numpy.random.random(size=1)[0]*10\n",
    "\n",
    "    args = dict(X=features,\n",
    "                y=labels,\n",
    "                max_depth=sigopt.params.max_depth,\n",
    "                learning_rate=sigopt.params.learning_rate,\n",
    "                min_split_loss=sigopt.params.min_split_loss)\n",
    "\n",
    "    mean_accuracy, training_and_validation_time = evaluate_xgboost_model(**args)\n",
    "\n",
    "    sigopt.log_metric(name='accuracy', value=mean_accuracy)\n",
    "    sigopt.log_metric(name='training and validation time (s)', value=training_and_validation_time)"
   ],
   "execution_count": null,
   "outputs": []
  },
  {
   "cell_type": "markdown",
   "metadata": {
    "id": "X8imk4IQlWlx"
   },
   "source": [
    "## Execute SigOpt Runs\n",
    "A SigOpt Run stores a model’s attributes, training checkpoints, and evaluated metrics, so that you can see a history of your work. This is the fundamental building block of SigOpt. Let's run and track our model using the `%%run` magic command."
   ]
  },
  {
   "cell_type": "code",
   "metadata": {
    "id": "ktWWkiQxoaix"
   },
   "source": [
    "%%run My_First_Run\n",
    "run_and_track_in_sigopt()"
   ],
   "execution_count": null,
   "outputs": []
  },
  {
   "cell_type": "markdown",
   "metadata": {
    "id": "bPHUG2KMNUgf"
   },
   "source": [
    "## Visualize Results\n",
    "When a Run is executed, SigOpt will conveniently output links to the Run page on our web application. Runs record everything you might need to understand how a model was built, reconstitute the model in the future, or explain the process to a colleague. You can click on the Run link above and view your completed Run in our web application. Here's a view of a Run page:\n",
    "\n",
    "<img src=\"https://public.sigopt.com/get-started-notebooks/v1/view-run-page.gif\" width=\"900\"/>\n",
    "\n",
    "The charts on the Run page show how it compares on key metrics with other Runs in the same Experiment.\n",
    "\n",
    "From the Run page, click on the Project Name at the top of the page to navigate to your project. At the project level, you can compare Runs, sort and filter through your Runs and view useful charts to gain insight into everything you've tried.\n",
    "\n",
    "Here's a view of a project page with multiple Runs:\n",
    "\n",
    "<img src=\"https://public.sigopt.com/get-started-notebooks/v1/sort-runs-in-project.gif\" width=\"900\"/>\n",
    "\n",
    "From the Project page, click on the Analysis tab. The default visualizations can be configured and more plots added, so you can draw conclusions and make comparisons.\n",
    "\n",
    "Here's a view of the analysis dashboard with multiple Runs:\n",
    "\n",
    "<img src=\"https://public.sigopt.com/get-started-notebooks/v1/analyze-runs-in-project.gif\" width=\"900\"/>\n",
    "\n",
    "Scroll down to the bottom of the page to see a list of all your Runs in one unique table. You can sort and filter Runs to identify the most promising Runs, customize the table and save in a “View” for later. Filtering from the table of Runs can be applied to charts to focus on Runs of interest.\n",
    "\n",
    "<img src=\"https://public.sigopt.com/get-started-notebooks/v1/filter-project-runs.gif\" width=\"900\"/>"
   ]
  },
  {
   "cell_type": "markdown",
   "metadata": {
    "id": "Pd67ldz8vTYA",
    "pycharm": {
     "name": "#%% md\n"
    }
   },
   "source": [
    "## From Runs To Experiments\n",
    "\n",
    "In this demo we've covered the recommended way to instrument your Run with SigOpt. After your model has been instrumented, it is easy to take advantage of SigOpt's optimization features. Optimization helps find the parameters for your model that give you the best metric (eg. maximizing an accuracy metric). Check out this ([notebook](https://colab.research.google.com/github/sigopt/sigopt-examples/blob/master/get-started/sigopt_experiment_and_optimization_demo.ipynb/)) to see how you can create an Experiment!"
   ]
  }
 ]
}