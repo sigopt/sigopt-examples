{
  "nbformat": 4,
  "nbformat_minor": 0,
  "metadata": {
    "colab": {
      "name": "SigOpt_Training_Runs_Demo.ipynb",
      "provenance": [],
      "collapsed_sections": []
    },
    "kernelspec": {
      "name": "python3",
      "display_name": "Python 3"
    },
    "language_info": {
      "name": "python"
    }
  },
  "cells": [
    {
      "cell_type": "markdown",
      "metadata": {
        "id": "AFJgv_3P4Bkl"
      },
      "source": [
        "#SigOpt Training Runs Demo\n",
        "\n",
        "In this notebook demo, you will learn how to:\n",
        "\n",
        "* Install the SigOpt python client\n",
        "* Set your SigOpt API token\n",
        "* Create your first project\n",
        "* Instrument your model\n",
        "* Create your first run and log your model metric and parameters to SigOpt\n",
        "* Visualize Results"
      ]
    },
    {
      "cell_type": "markdown",
      "metadata": {
        "id": "U5s2PjpUT8T8"
      },
      "source": [
        "## Install `sigopt` Python Client\n"
      ]
    },
    {
      "cell_type": "code",
      "metadata": {
        "id": "GStrnIw7S_ra",
        "colab": {
          "base_uri": "https://localhost:8080/"
        },
        "outputId": "0dcdf762-840b-4e41-ab47-52f011b44aee"
      },
      "source": [
        "! pip install sigopt"
      ],
      "execution_count": null,
      "outputs": [
        {
          "output_type": "stream",
          "text": [
            "Collecting sigopt\n",
            "  Downloading https://files.pythonhosted.org/packages/c6/aa/68e55c41a72bc7ac79addb28701bb28afb8fc5407e44928d619009a86eb7/sigopt-7.4.0-py2.py3-none-any.whl\n",
            "Requirement already satisfied: requests>=2.11.1 in /usr/local/lib/python3.7/dist-packages (from sigopt) (2.23.0)\n",
            "Collecting pypng>=0.0.20\n",
            "\u001b[?25l  Downloading https://files.pythonhosted.org/packages/bc/fb/f719f1ac965e2101aa6ea6f54ef8b40f8fbb033f6ad07c017663467f5147/pypng-0.0.20.tar.gz (649kB)\n",
            "\u001b[K     |████████████████████████████████| 655kB 15.8MB/s \n",
            "\u001b[?25hCollecting GitPython>=2.0.0\n",
            "\u001b[?25l  Downloading https://files.pythonhosted.org/packages/bc/91/b38c4fabb6e5092ab23492ded4f318ab7299b19263272b703478038c0fbc/GitPython-3.1.18-py3-none-any.whl (170kB)\n",
            "\u001b[K     |████████████████████████████████| 174kB 58.3MB/s \n",
            "\u001b[?25hRequirement already satisfied: ipython>=5.0.0 in /usr/local/lib/python3.7/dist-packages (from sigopt) (5.5.0)\n",
            "Requirement already satisfied: click>=7.0.0 in /usr/local/lib/python3.7/dist-packages (from sigopt) (7.1.2)\n",
            "Collecting PyYAML>=5.4.1\n",
            "\u001b[?25l  Downloading https://files.pythonhosted.org/packages/7a/a5/393c087efdc78091afa2af9f1378762f9821c9c1d7a22c5753fb5ac5f97a/PyYAML-5.4.1-cp37-cp37m-manylinux1_x86_64.whl (636kB)\n",
            "\u001b[K     |████████████████████████████████| 645kB 40.5MB/s \n",
            "\u001b[?25hRequirement already satisfied: chardet<4,>=3.0.2 in /usr/local/lib/python3.7/dist-packages (from requests>=2.11.1->sigopt) (3.0.4)\n",
            "Requirement already satisfied: idna<3,>=2.5 in /usr/local/lib/python3.7/dist-packages (from requests>=2.11.1->sigopt) (2.10)\n",
            "Requirement already satisfied: urllib3!=1.25.0,!=1.25.1,<1.26,>=1.21.1 in /usr/local/lib/python3.7/dist-packages (from requests>=2.11.1->sigopt) (1.24.3)\n",
            "Requirement already satisfied: certifi>=2017.4.17 in /usr/local/lib/python3.7/dist-packages (from requests>=2.11.1->sigopt) (2021.5.30)\n",
            "Collecting gitdb<5,>=4.0.1\n",
            "\u001b[?25l  Downloading https://files.pythonhosted.org/packages/ea/e8/f414d1a4f0bbc668ed441f74f44c116d9816833a48bf81d22b697090dba8/gitdb-4.0.7-py3-none-any.whl (63kB)\n",
            "\u001b[K     |████████████████████████████████| 71kB 7.5MB/s \n",
            "\u001b[?25hRequirement already satisfied: typing-extensions>=3.7.4.0; python_version < \"3.8\" in /usr/local/lib/python3.7/dist-packages (from GitPython>=2.0.0->sigopt) (3.7.4.3)\n",
            "Requirement already satisfied: simplegeneric>0.8 in /usr/local/lib/python3.7/dist-packages (from ipython>=5.0.0->sigopt) (0.8.1)\n",
            "Requirement already satisfied: decorator in /usr/local/lib/python3.7/dist-packages (from ipython>=5.0.0->sigopt) (4.4.2)\n",
            "Requirement already satisfied: pickleshare in /usr/local/lib/python3.7/dist-packages (from ipython>=5.0.0->sigopt) (0.7.5)\n",
            "Requirement already satisfied: prompt-toolkit<2.0.0,>=1.0.4 in /usr/local/lib/python3.7/dist-packages (from ipython>=5.0.0->sigopt) (1.0.18)\n",
            "Requirement already satisfied: pygments in /usr/local/lib/python3.7/dist-packages (from ipython>=5.0.0->sigopt) (2.6.1)\n",
            "Requirement already satisfied: traitlets>=4.2 in /usr/local/lib/python3.7/dist-packages (from ipython>=5.0.0->sigopt) (5.0.5)\n",
            "Requirement already satisfied: pexpect; sys_platform != \"win32\" in /usr/local/lib/python3.7/dist-packages (from ipython>=5.0.0->sigopt) (4.8.0)\n",
            "Requirement already satisfied: setuptools>=18.5 in /usr/local/lib/python3.7/dist-packages (from ipython>=5.0.0->sigopt) (57.0.0)\n",
            "Collecting smmap<5,>=3.0.1\n",
            "  Downloading https://files.pythonhosted.org/packages/68/ee/d540eb5e5996eb81c26ceffac6ee49041d473bc5125f2aa995cf51ec1cf1/smmap-4.0.0-py2.py3-none-any.whl\n",
            "Requirement already satisfied: six>=1.9.0 in /usr/local/lib/python3.7/dist-packages (from prompt-toolkit<2.0.0,>=1.0.4->ipython>=5.0.0->sigopt) (1.15.0)\n",
            "Requirement already satisfied: wcwidth in /usr/local/lib/python3.7/dist-packages (from prompt-toolkit<2.0.0,>=1.0.4->ipython>=5.0.0->sigopt) (0.2.5)\n",
            "Requirement already satisfied: ipython-genutils in /usr/local/lib/python3.7/dist-packages (from traitlets>=4.2->ipython>=5.0.0->sigopt) (0.2.0)\n",
            "Requirement already satisfied: ptyprocess>=0.5 in /usr/local/lib/python3.7/dist-packages (from pexpect; sys_platform != \"win32\"->ipython>=5.0.0->sigopt) (0.7.0)\n",
            "Building wheels for collected packages: pypng\n",
            "  Building wheel for pypng (setup.py) ... \u001b[?25l\u001b[?25hdone\n",
            "  Created wheel for pypng: filename=pypng-0.0.20-cp37-none-any.whl size=67179 sha256=7a87b241d57149506dbb2c3a3c02ed7143b1acf42f88c62f28dc64a75f870c40\n",
            "  Stored in directory: /root/.cache/pip/wheels/41/6b/ef/0493b536b6d4722c2ae9486691b1d49b922b9877922beeabb3\n",
            "Successfully built pypng\n",
            "Installing collected packages: pypng, smmap, gitdb, GitPython, PyYAML, sigopt\n",
            "  Found existing installation: PyYAML 3.13\n",
            "    Uninstalling PyYAML-3.13:\n",
            "      Successfully uninstalled PyYAML-3.13\n",
            "Successfully installed GitPython-3.1.18 PyYAML-5.4.1 gitdb-4.0.7 pypng-0.0.20 sigopt-7.4.0 smmap-4.0.0\n"
          ],
          "name": "stdout"
        }
      ]
    },
    {
      "cell_type": "code",
      "metadata": {
        "colab": {
          "base_uri": "https://localhost:8080/"
        },
        "id": "Lwfr2pWRVcdo",
        "outputId": "6ec4b948-1a2b-4f47-a85b-29a4c3c48959"
      },
      "source": [
        "! pip install xgboost==1.4.2"
      ],
      "execution_count": null,
      "outputs": [
        {
          "output_type": "stream",
          "text": [
            "Collecting xgboost==1.4.2\n",
            "\u001b[?25l  Downloading https://files.pythonhosted.org/packages/bb/35/169eec194bf1f9ef52ed670f5032ef2abaf6ed285cfadcb4b6026b800fc9/xgboost-1.4.2-py3-none-manylinux2010_x86_64.whl (166.7MB)\n",
            "\u001b[K     |████████████████████████████████| 166.7MB 91kB/s \n",
            "\u001b[?25hRequirement already satisfied: numpy in /usr/local/lib/python3.7/dist-packages (from xgboost==1.4.2) (1.19.5)\n",
            "Requirement already satisfied: scipy in /usr/local/lib/python3.7/dist-packages (from xgboost==1.4.2) (1.4.1)\n",
            "Installing collected packages: xgboost\n",
            "  Found existing installation: xgboost 0.90\n",
            "    Uninstalling xgboost-0.90:\n",
            "      Successfully uninstalled xgboost-0.90\n",
            "Successfully installed xgboost-1.4.2\n"
          ],
          "name": "stdout"
        }
      ]
    },
    {
      "cell_type": "markdown",
      "metadata": {
        "id": "fPHmUxsBUO74"
      },
      "source": [
        "## Set Your API Token\n",
        "\n",
        "Once you've installed SigOpt, you need to add your SigOpt API token.\n",
        "\n",
        "If you don't have an account yet, sign up for a free at [app.sigopt.com/signup](https://app.sigopt.com/signup).\n",
        "\n",
        "To get your API token, visit https://app.sigopt.com/tokens/info. This page is accessible from anywhere in the app when you click on your name in the top right corner, and select \"API Tokens\".\n",
        "\n",
        "<img src=\"https://public.sigopt.com/get-started-notebooks/v1/find-api-token.gif\" width=\"900\"/>\n",
        "\n"
      ]
    },
    {
      "cell_type": "code",
      "metadata": {
        "id": "oBcaEsYWWnCD"
      },
      "source": [
        "import portpicker\n",
        "import threading\n",
        "import socket\n",
        "import IPython\n",
        "\n",
        "from six.moves import socketserver\n",
        "from six.moves import SimpleHTTPServer\n",
        "\n",
        "class V6Server(socketserver.TCPServer):\n",
        "  address_family = socket.AF_INET6\n",
        "\n",
        "class Handler(SimpleHTTPServer.SimpleHTTPRequestHandler):\n",
        "  def do_GET(self):\n",
        "    self.send_response(200)\n",
        "    # If the response should not be cached in the notebook for\n",
        "    # offline access:\n",
        "    # self.send_header('x-colab-notebook-cache-control', 'no-cache')\n",
        "    self.end_headers()\n",
        "    self.wfile.write(b'''\n",
        "      document.querySelector('#output-area').appendChild(document.createTextNode('Script result!'));\n",
        "    ''')\n",
        "\n",
        "port = portpicker.pick_unused_port()\n",
        "\n",
        "def server_entry():\n",
        "    httpd = V6Server(('::', port), Handler)\n",
        "    # Handle a single request then exit the thread.\n",
        "    httpd.serve_forever()\n",
        "\n",
        "thread = threading.Thread(target=server_entry)\n",
        "thread.start()\n",
        "\n",
        "# Display some HTML referencing the resource.\n",
        "display(IPython.display.HTML('<script src=\"https://localhost:{port}/\"></script>'.format(port=port)))"
      ],
      "execution_count": null,
      "outputs": []
    },
    {
      "cell_type": "code",
      "metadata": {
        "id": "FYC6HJBDWnCE"
      },
      "source": [
        "from google.colab import output\n",
        "output.serve_kernel_port_as_iframe(port)"
      ],
      "execution_count": null,
      "outputs": []
    },
    {
      "cell_type": "code",
      "metadata": {
        "id": "QvF1eXY_WnCE"
      },
      "source": [
        "from google.colab import output\n",
        "output.serve_kernel_port_as_window(port)"
      ],
      "execution_count": null,
      "outputs": []
    },
    {
      "cell_type": "code",
      "metadata": {
        "id": "4TA9RJm4UFPu"
      },
      "source": [
        "MY_API_TOKEN = \"YOUR_API_TOKEN_HERE\""
      ],
      "execution_count": null,
      "outputs": []
    },
    {
      "cell_type": "markdown",
      "metadata": {
        "id": "NoP3Axs_7x-K"
      },
      "source": [
        "Then configure your connection with SigOpt:"
      ]
    },
    {
      "cell_type": "code",
      "metadata": {
        "id": "kByBIJOlUeti"
      },
      "source": [
        "from sigopt import Connection\n",
        "conn = Connection(client_token=MY_API_TOKEN)"
      ],
      "execution_count": null,
      "outputs": []
    },
    {
      "cell_type": "markdown",
      "metadata": {
        "id": "YEEu1lImVGDD"
      },
      "source": [
        "## Create Your Project\n",
        "\n",
        "Training runs are created within projects. The project allows you to sort and filter your training runs and view useful charts with insights into everything you've tried.\n",
        "\n",
        "Feel free to edit the name of your project below. Note that the API token is also set as an environment variable."
      ]
    },
    {
      "cell_type": "code",
      "metadata": {
        "id": "uB2-tngFVOjB"
      },
      "source": [
        "import os\n",
        "os.environ['SIGOPT_API_TOKEN'] = MY_API_TOKEN\n",
        "os.environ['SIGOPT_PROJECT'] = \"SigOpt_Run_XGB_Classifier\"\n",
        "%load_ext sigopt"
      ],
      "execution_count": null,
      "outputs": []
    },
    {
      "cell_type": "markdown",
      "metadata": {
        "id": "x1aUAYtzhhml"
      },
      "source": [
        "## Instrument Your Model\n",
        "\n",
        "Let’s start out by importing some useful libraries and load our data:"
      ]
    },
    {
      "cell_type": "code",
      "metadata": {
        "id": "EPjIZgbdhjCt"
      },
      "source": [
        "from xgboost import XGBClassifier\n",
        "from sklearn.multiclass import OneVsRestClassifier\n",
        "from sklearn.model_selection import cross_val_score\n",
        "from sklearn.preprocessing import OneHotEncoder, StandardScaler\n",
        "from sklearn import datasets\n",
        "import numpy\n",
        "import sigopt\n",
        "import time"
      ],
      "execution_count": null,
      "outputs": []
    },
    {
      "cell_type": "code",
      "metadata": {
        "id": "AAB9zZWtWFH3"
      },
      "source": [
        "DATASET_NAME = \"Sklearn Wine\"\n",
        "FEATURE_ENG_PIPELINE_NAME = \"Sklearn Standard Scalar\"\n",
        "PREDICTION_TYPE = \"Multiclass\"\n",
        "DATASET_SRC = \"sklearn.datasets\"\n",
        "\n",
        "def get_data():\n",
        "  \n",
        "  \"\"\"\n",
        "  Load sklearn wine dataset, and scale features to be zero mean, unit variance.\n",
        "  One hot encode labels (3 classes), to be used by sklearn OneVsRestClassifier. \n",
        "  \"\"\"\n",
        " \n",
        "  data = datasets.load_wine()\n",
        "  X = data[\"data\"]\n",
        "  y = data[\"target\"]\n",
        "\n",
        "  scaler = StandardScaler()\n",
        "  X_scaled = scaler.fit_transform(X)\n",
        "\n",
        "  enc = OneHotEncoder()\n",
        "  Y = enc.fit_transform(y[:, numpy.newaxis]).toarray()\n",
        "\n",
        "  return (X_scaled, Y)"
      ],
      "execution_count": null,
      "outputs": []
    },
    {
      "cell_type": "markdown",
      "metadata": {
        "id": "81yDzXfShoZ_"
      },
      "source": [
        "We now create our model function; `evaluate_xgboost_model` that instantiates one xgboost classifier per class in our 3-class dataset, and evaluate the one-vs-rest classifier set on `number_of_cross_val_folds` before reporting the mean score and the wall-clock time to instantiate and train the models.\n"
      ]
    },
    {
      "cell_type": "code",
      "metadata": {
        "id": "n-slS09RhACg"
      },
      "source": [
        "MODEL_NAME = \"OneVsRestClassifier(XGBoostClassifier)\"\n",
        "\n",
        "def evaluate_xgboost_model(X, y, \n",
        "                           number_of_cross_val_folds=5,\n",
        "                           max_depth=6,\n",
        "                           learning_rate=0.3,\n",
        "                           min_split_loss=0):\n",
        "    t0 = time.time()\n",
        "    classifier = OneVsRestClassifier(XGBClassifier(\n",
        "        objective = \"binary:logistic\",\n",
        "        max_depth =    max_depth,\n",
        "        learning_rate = learning_rate,\n",
        "        min_split_loss = min_split_loss,\n",
        "        use_label_encoder=False,\n",
        "        verbosity = 0\n",
        "    ))\n",
        "    cv_accuracies = cross_val_score(classifier, X, y, cv=number_of_cross_val_folds)\n",
        "    tf = time.time()\n",
        "    training_and_validation_time = (tf-t0)\n",
        "    return numpy.mean(cv_accuracies), training_and_validation_time"
      ],
      "execution_count": null,
      "outputs": []
    },
    {
      "cell_type": "markdown",
      "metadata": {
        "id": "nxk4TmsgFHwq"
      },
      "source": [
        "The second function `run_and_track_in_sigopt` uses SigOpt methods to log and track key model information including:\n",
        "* the type of model used (`sigopt.log_model`),\n",
        "* the name of the dataset (`sigopt.log_dataset`),\n",
        "* the hyperparameters used to build the model (`sigopt.get_parameter`),\n",
        "* various attributes relevant to the model (`sigopt.log_metadata`) and\n",
        "* the model output metrics (`sigopt.log_metric`)."
      ]
    },
    {
      "cell_type": "code",
      "metadata": {
        "id": "7ynaKU7zhrGm"
      },
      "source": [
        "def run_and_track_in_sigopt():\n",
        "\n",
        "    (features, labels) = get_data()\n",
        "\n",
        "    sigopt.log_dataset(DATASET_NAME)\n",
        "    sigopt.log_metadata(key=\"Dataset Source\", value=DATASET_SRC)\n",
        "    sigopt.log_metadata(key=\"Feature Eng Pipeline Name\", value=FEATURE_ENG_PIPELINE_NAME)\n",
        "    sigopt.log_metadata(key=\"Dataset Rows\", value=features.shape[0]) # assumes features X are like a numpy array with shape\n",
        "    sigopt.log_metadata(key=\"Dataset Columns\", value=features.shape[1])\n",
        "    sigopt.log_metadata(key=\"Execution Environment\", value=\"Colab Notebook\")\n",
        "    sigopt.log_model(MODEL_NAME)\n",
        "\n",
        "    args = dict(X=features, y=labels,\n",
        "                max_depth = sigopt.get_parameter(\"max_depth\", default = numpy.random.randint(low=3, high=15, dtype=int)),\n",
        "                learning_rate = sigopt.get_parameter(\"learning_rate\", default = numpy.random.random(size=1)[0]),\n",
        "                min_split_loss = sigopt.get_parameter(\"min_split_loss\", default = numpy.random.random(size=1)[0]*10))\n",
        "\n",
        "    mean_accuracy, training_and_validation_time = evaluate_xgboost_model(**args)\n",
        "\n",
        "    sigopt.log_metric(name='accuracy', value=mean_accuracy)\n",
        "    sigopt.log_metric(name='training and validation time (s)', value=training_and_validation_time)"
      ],
      "execution_count": null,
      "outputs": []
    },
    {
      "cell_type": "markdown",
      "metadata": {
        "id": "X8imk4IQlWlx"
      },
      "source": [
        "## Execute SigOpt Runs \n",
        "Let's run and track our model using the `%%run` magic command."
      ]
    },
    {
      "cell_type": "code",
      "metadata": {
        "id": "ktWWkiQxoaix"
      },
      "source": [
        "%%run My_First_Run\n",
        "run_and_track_in_sigopt()"
      ],
      "execution_count": null,
      "outputs": []
    },
    {
      "cell_type": "markdown",
      "metadata": {
        "id": "bPHUG2KMNUgf"
      },
      "source": [
        "## Visualize Results\n",
        "When a run is executed, SigOpt will conveniently output links to the run page on our web application. You can click on the run link above and view your completed run in our web application. Here's a view of a training run page:\n",
        "\n",
        "<img src=\"https://public.sigopt.com/get-started-notebooks/v1/view-run-page.gif\" width=\"900\"/>\n",
        "\n",
        "The charts on the training run page show how it compares on key metrics with other runs in the same experiment.\n",
        "\n",
        "From the Run page, click on the Project Name at the top of the page to navigate to your project. At the project level, you can compare  training runs, sort and filter through your training runs and view useful charts to gain insight into everything you've tried.\n",
        "\n",
        "Here's a view of a project page with multiple runs:\n",
        "\n",
        "<img src=\"https://public.sigopt.com/get-started-notebooks/v1/sort-runs-in-project.gif\" width=\"900\"/>\n",
        "\n",
        "From the Project page, click on the Analysis tab. The default visualizations can be configured and more plots added, so you can draw conclusions and make comparisons.\n",
        "\n",
        "Here's a view of the analysis dashboard with multiple runs:\n",
        "\n",
        "<img src=\"https://public.sigopt.com/get-started-notebooks/v1/analyze-runs-in-project.gif\" width=\"900\"/>\n",
        "\n",
        "Scroll down to the bottom of the page to see a list of all your runs in one unique table. You can sort and filter runs to identify the most promising runs, customize the table and save in a “View” for later. Filtering from the table of runs can be applied to charts to focus on runs of interest.\n",
        "\n",
        "<img src=\"https://public.sigopt.com/get-started-notebooks/v1/filter-project-runs.gif\" width=\"900\"/>"
      ]
    },
    {
      "cell_type": "markdown",
      "metadata": {
        "id": "Pd67ldz8vTYA"
      },
      "source": [
        "## From Training Runs To Optimization Experiments\n",
        "\n",
        "In this demo we've covered the recommended way to instrument your training run with SigOpt. After your model has been instrumented, it is easy to take advantage of SigOpt's optimization features. Optimization helps find the parameters for your model that give you the best metric (eg. maximizing an accuracy metric). Check out this ([notebook](https://colab.research.google.com/github/sigopt/sigopt-examples/blob/master/get-started/sigopt_experiment_and_optimization_demo.ipynb/)) to see how you can create an experiment!  "
      ]
    }
  ]
}